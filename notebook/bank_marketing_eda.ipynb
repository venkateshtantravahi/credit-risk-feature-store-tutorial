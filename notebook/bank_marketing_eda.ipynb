{
 "cells": [
  {
   "cell_type": "code",
   "id": "initial_id",
   "metadata": {
    "collapsed": true,
    "ExecuteTime": {
     "end_time": "2025-08-25T16:34:06.907665Z",
     "start_time": "2025-08-25T16:34:06.904209Z"
    }
   },
   "source": [
    "import pandas as pd\n",
    "import duckdb\n",
    "import matplotlib.pyplot as plt\n",
    "import seaborn as sns\n",
    "from itertools import islice\n",
    "from sklearn.preprocessing import LabelEncoder\n",
    "from ucimlrepo import fetch_ucirepo"
   ],
   "outputs": [],
   "execution_count": 20
  },
  {
   "metadata": {},
   "cell_type": "markdown",
   "source": "# Load dataset using UCI ML Repo API",
   "id": "a43ed96b5f8b89ec"
  },
  {
   "metadata": {
    "ExecuteTime": {
     "end_time": "2025-08-25T16:34:12.574030Z",
     "start_time": "2025-08-25T16:34:07.927119Z"
    }
   },
   "cell_type": "code",
   "source": [
    "bank_marketing = fetch_ucirepo(id=222)\n",
    "X = bank_marketing.data.features\n",
    "y = bank_marketing.data.targets\n",
    "\n",
    "\n",
    "# Merge features and target for analysis\n",
    "df = pd.concat([X, y], axis=1)"
   ],
   "id": "eadce88feb5d9847",
   "outputs": [],
   "execution_count": 21
  },
  {
   "metadata": {},
   "cell_type": "markdown",
   "source": "# Basic Profiling",
   "id": "f99d9a07d8196f89"
  },
  {
   "metadata": {
    "ExecuteTime": {
     "end_time": "2025-08-25T16:34:12.686209Z",
     "start_time": "2025-08-25T16:34:12.684628Z"
    }
   },
   "cell_type": "code",
   "source": "print(\"\\n\\n[INFO] Dataset shape:\", df.shape)",
   "id": "9c732accb9f9f3cf",
   "outputs": [
    {
     "name": "stdout",
     "output_type": "stream",
     "text": [
      "\n",
      "\n",
      "[INFO] Dataset shape: (45211, 17)\n"
     ]
    }
   ],
   "execution_count": 22
  },
  {
   "metadata": {
    "ExecuteTime": {
     "end_time": "2025-08-25T16:34:12.768877Z",
     "start_time": "2025-08-25T16:34:12.766406Z"
    }
   },
   "cell_type": "code",
   "source": [
    "print(\"\\n\\n[INFO] Column types:\")\n",
    "print(df.dtypes)"
   ],
   "id": "e12812a8bf593e61",
   "outputs": [
    {
     "name": "stdout",
     "output_type": "stream",
     "text": [
      "\n",
      "\n",
      "[INFO] Column types:\n",
      "age             int64\n",
      "job            object\n",
      "marital        object\n",
      "education      object\n",
      "default        object\n",
      "balance         int64\n",
      "housing        object\n",
      "loan           object\n",
      "contact        object\n",
      "day_of_week     int64\n",
      "month          object\n",
      "duration        int64\n",
      "campaign        int64\n",
      "pdays           int64\n",
      "previous        int64\n",
      "poutcome       object\n",
      "y              object\n",
      "dtype: object\n"
     ]
    }
   ],
   "execution_count": 23
  },
  {
   "metadata": {
    "ExecuteTime": {
     "end_time": "2025-08-25T16:34:13.490289Z",
     "start_time": "2025-08-25T16:34:13.485084Z"
    }
   },
   "cell_type": "code",
   "source": [
    "print(\"\\n\\n[INFO] Sample records:\")\n",
    "print(df.head())"
   ],
   "id": "e13bbb57417909ba",
   "outputs": [
    {
     "name": "stdout",
     "output_type": "stream",
     "text": [
      "\n",
      "\n",
      "[INFO] Sample records:\n",
      "   age           job  marital  education default  balance housing loan  \\\n",
      "0   58    management  married   tertiary      no     2143     yes   no   \n",
      "1   44    technician   single  secondary      no       29     yes   no   \n",
      "2   33  entrepreneur  married  secondary      no        2     yes  yes   \n",
      "3   47   blue-collar  married        NaN      no     1506     yes   no   \n",
      "4   33           NaN   single        NaN      no        1      no   no   \n",
      "\n",
      "  contact  day_of_week month  duration  campaign  pdays  previous poutcome   y  \n",
      "0     NaN            5   may       261         1     -1         0      NaN  no  \n",
      "1     NaN            5   may       151         1     -1         0      NaN  no  \n",
      "2     NaN            5   may        76         1     -1         0      NaN  no  \n",
      "3     NaN            5   may        92         1     -1         0      NaN  no  \n",
      "4     NaN            5   may       198         1     -1         0      NaN  no  \n"
     ]
    }
   ],
   "execution_count": 24
  },
  {
   "metadata": {},
   "cell_type": "markdown",
   "source": "# SQL-based Exploration using DuckDB",
   "id": "8c87024c9029c964"
  },
  {
   "metadata": {
    "ExecuteTime": {
     "end_time": "2025-08-25T16:34:15.811495Z",
     "start_time": "2025-08-25T16:34:15.793817Z"
    }
   },
   "cell_type": "code",
   "source": [
    "print(\"\\n\\n[INFO] Top jobs by balance\")\n",
    "print(duckdb.query(\"\"\"\n",
    "SELECT job, AVG(balance) AS avg_balance, COUNT(*) AS count\n",
    "FROM df\n",
    "GROUP BY job\n",
    "ORDER BY avg_balance DESC\n",
    "\"\"\").to_df())"
   ],
   "id": "5cb41ef3bea749d",
   "outputs": [
    {
     "name": "stdout",
     "output_type": "stream",
     "text": [
      "\n",
      "\n",
      "[INFO] Top jobs by balance\n",
      "              job  avg_balance  count\n",
      "0         retired  1984.215106   2264\n",
      "1            None  1772.357639    288\n",
      "2      management  1763.616832   9458\n",
      "3   self-employed  1647.970868   1579\n",
      "4      unemployed  1521.745971   1303\n",
      "5    entrepreneur  1521.470074   1487\n",
      "6       housemaid  1392.395161   1240\n",
      "7         student  1388.060768    938\n",
      "8      technician  1252.632092   7597\n",
      "9          admin.  1135.838909   5171\n",
      "10    blue-collar  1078.826654   9732\n",
      "11       services   997.088108   4154\n"
     ]
    }
   ],
   "execution_count": 25
  },
  {
   "metadata": {
    "ExecuteTime": {
     "end_time": "2025-08-25T16:34:16.858436Z",
     "start_time": "2025-08-25T16:34:16.843925Z"
    }
   },
   "cell_type": "code",
   "source": [
    "print(\"\\n\\n[INFO] Marital status distribution by outcome\")\n",
    "print(duckdb.query(\"\"\"\n",
    "SELECT marital, y, COUNT(*) as cnt\n",
    "FROM df\n",
    "GROUP BY marital, y\n",
    "ORDER BY marital, y\n",
    "\"\"\").to_df())"
   ],
   "id": "990f262a3964c012",
   "outputs": [
    {
     "name": "stdout",
     "output_type": "stream",
     "text": [
      "\n",
      "\n",
      "[INFO] Marital status distribution by outcome\n",
      "    marital    y    cnt\n",
      "0  divorced   no   4585\n",
      "1  divorced  yes    622\n",
      "2   married   no  24459\n",
      "3   married  yes   2755\n",
      "4    single   no  10878\n",
      "5    single  yes   1912\n"
     ]
    }
   ],
   "execution_count": 26
  },
  {
   "metadata": {},
   "cell_type": "markdown",
   "source": "# Feature Engineering",
   "id": "6ffe394c9e64f89"
  },
  {
   "metadata": {
    "ExecuteTime": {
     "end_time": "2025-08-25T16:34:18.674556Z",
     "start_time": "2025-08-25T16:34:18.666852Z"
    }
   },
   "cell_type": "code",
   "source": [
    "print(\"\\n[INFO] Encoding target variable 'y'\")\n",
    "df['target'] = df['y'].map({\"yes\": 1, \"no\": 0})"
   ],
   "id": "e102624b0597d398",
   "outputs": [
    {
     "name": "stdout",
     "output_type": "stream",
     "text": [
      "\n",
      "[INFO] Encoding target variable 'y'\n"
     ]
    }
   ],
   "execution_count": 27
  },
  {
   "metadata": {},
   "cell_type": "markdown",
   "source": "## 1. Ratio Features",
   "id": "767fc1205d7a0ec5"
  },
  {
   "metadata": {
    "ExecuteTime": {
     "end_time": "2025-08-25T16:34:19.800026Z",
     "start_time": "2025-08-25T16:34:19.795014Z"
    }
   },
   "cell_type": "code",
   "source": [
    "print(\"[INFO] Adding ratio features\")\n",
    "df['balance_to_duration_ratio'] = df['balance'] / (df['duration'] + 1)\n",
    "df['balance_per_campaign'] = df['balance'] / (df['campaign'] + 1)"
   ],
   "id": "cb75f8d7e121ed13",
   "outputs": [
    {
     "name": "stdout",
     "output_type": "stream",
     "text": [
      "[INFO] Adding ratio features\n"
     ]
    }
   ],
   "execution_count": 28
  },
  {
   "metadata": {},
   "cell_type": "markdown",
   "source": "## 2. Binary Features from categorical",
   "id": "dee2360be26c94f7"
  },
  {
   "metadata": {
    "ExecuteTime": {
     "end_time": "2025-08-25T16:34:21.270873Z",
     "start_time": "2025-08-25T16:34:21.257549Z"
    }
   },
   "cell_type": "code",
   "source": [
    "print(\"[INFO] Creating binary features from yes/no columns\")\n",
    "df['has_default'] = df['default'].map({'yes': 1, 'no': 0})\n",
    "df['has_housing'] = df['housing'].map({'yes': 1, 'no': 0})\n",
    "df['has_loan'] = df['loan'].map({'yes': 1, 'no': 0})"
   ],
   "id": "2e9101ce98034539",
   "outputs": [
    {
     "name": "stdout",
     "output_type": "stream",
     "text": [
      "[INFO] Creating binary features from yes/no columns\n"
     ]
    }
   ],
   "execution_count": 29
  },
  {
   "metadata": {},
   "cell_type": "markdown",
   "source": "## 3. Ordinal encoding (e.g., education)",
   "id": "2ae885021b843e33"
  },
  {
   "metadata": {
    "ExecuteTime": {
     "end_time": "2025-08-25T16:34:24.910676Z",
     "start_time": "2025-08-25T16:34:24.902121Z"
    }
   },
   "cell_type": "code",
   "source": [
    "print(\"[INFO] Encoding education as ordinal feature\")\n",
    "education_order = {\n",
    "'unknown': 0, 'primary': 1, 'secondary': 2, 'tertiary': 3\n",
    "}\n",
    "df['education_level'] = df['education'].map(education_order)"
   ],
   "id": "a267eadcd83ef663",
   "outputs": [
    {
     "name": "stdout",
     "output_type": "stream",
     "text": [
      "[INFO] Encoding education as ordinal feature\n"
     ]
    }
   ],
   "execution_count": 30
  },
  {
   "metadata": {},
   "cell_type": "markdown",
   "source": "## 4. Time-derived Features",
   "id": "5f2d81b1a472a832"
  },
  {
   "metadata": {
    "ExecuteTime": {
     "end_time": "2025-08-25T16:34:26.722735Z",
     "start_time": "2025-08-25T16:34:26.714854Z"
    }
   },
   "cell_type": "code",
   "source": [
    "print(\"[INFO] Adding time-based features\")\n",
    "month_map = {\n",
    "'jan': 1, 'feb': 2, 'mar': 3, 'apr': 4, 'may': 5, 'jun': 6,\n",
    "'jul': 7, 'aug': 8, 'sep': 9, 'oct': 10, 'nov': 11, 'dec': 12\n",
    "}\n",
    "df['contact_month'] = df['month'].map(month_map)"
   ],
   "id": "9a4aa0018ec8b12d",
   "outputs": [
    {
     "name": "stdout",
     "output_type": "stream",
     "text": [
      "[INFO] Adding time-based features\n"
     ]
    }
   ],
   "execution_count": 31
  },
  {
   "metadata": {},
   "cell_type": "markdown",
   "source": "## Trying to build a weekday-like feature from `day` and `month` assuming dummy year",
   "id": "66624cc8a1d1433f"
  },
  {
   "metadata": {
    "ExecuteTime": {
     "end_time": "2025-08-25T16:34:28.747015Z",
     "start_time": "2025-08-25T16:34:28.718034Z"
    }
   },
   "cell_type": "code",
   "source": [
    "date_strs = df['day_of_week'].astype(str) + '-' + df['month'].astype(str).str[:3] + '-2008'\n",
    "df['day_of_week'] = pd.to_datetime(date_strs, format='%d-%b-%Y', errors='coerce').dt.dayofweek"
   ],
   "id": "1d65c7b1187b3f0",
   "outputs": [],
   "execution_count": 32
  },
  {
   "metadata": {},
   "cell_type": "markdown",
   "source": "## 5. Interaction features",
   "id": "4d5ccc3f7cd8f680"
  },
  {
   "metadata": {
    "ExecuteTime": {
     "end_time": "2025-08-25T16:34:30.650618Z",
     "start_time": "2025-08-25T16:34:30.632166Z"
    }
   },
   "cell_type": "code",
   "source": [
    "print(\"[INFO] Adding interaction feature: job_edu_combo\")\n",
    "df['job_edu_combo'] = df['education'].astype(str) + '_' + df['job'].astype(str)\n",
    "df['job_edu_encoded'] = LabelEncoder().fit_transform(df['job_edu_combo'])"
   ],
   "id": "921467646c916a92",
   "outputs": [
    {
     "name": "stdout",
     "output_type": "stream",
     "text": [
      "[INFO] Adding interaction feature: job_edu_combo\n"
     ]
    }
   ],
   "execution_count": 33
  },
  {
   "metadata": {},
   "cell_type": "markdown",
   "source": "## 6. One-hot encoding",
   "id": "8ecea383a01e9fbb"
  },
  {
   "metadata": {
    "ExecuteTime": {
     "end_time": "2025-08-25T16:34:35.201023Z",
     "start_time": "2025-08-25T16:34:35.175505Z"
    }
   },
   "cell_type": "code",
   "source": [
    "print(\"[INFO] One-hot encoding job and contact\")\n",
    "df = pd.get_dummies(df, columns=['job', 'contact'], prefix=['job', 'contact'])"
   ],
   "id": "521382569ae154a9",
   "outputs": [
    {
     "name": "stdout",
     "output_type": "stream",
     "text": [
      "[INFO] One-hot encoding job and contact\n"
     ]
    }
   ],
   "execution_count": 34
  },
  {
   "metadata": {},
   "cell_type": "markdown",
   "source": "## 7. Frequency encoding",
   "id": "e4c15e98d65430cb"
  },
  {
   "metadata": {
    "ExecuteTime": {
     "end_time": "2025-08-25T16:34:59.033341Z",
     "start_time": "2025-08-25T16:34:59.026308Z"
    }
   },
   "cell_type": "code",
   "source": [
    "print(\"[INFO] Adding frequency-encoded marital status\")\n",
    "marital_freq = df['marital'].value_counts(normalize=True)\n",
    "df['marital_freq'] = df['marital'].map(marital_freq)"
   ],
   "id": "5bda5a71ddea96f8",
   "outputs": [
    {
     "name": "stdout",
     "output_type": "stream",
     "text": [
      "[INFO] Adding frequency-encoded marital status\n"
     ]
    }
   ],
   "execution_count": 35
  },
  {
   "metadata": {},
   "cell_type": "markdown",
   "source": "## 8. Age Binning",
   "id": "d6ed174ef0ef35c6"
  },
  {
   "metadata": {
    "ExecuteTime": {
     "end_time": "2025-08-25T16:35:53.378336Z",
     "start_time": "2025-08-25T16:35:53.362122Z"
    }
   },
   "cell_type": "code",
   "source": [
    "print(\"[INFO] Applying generator-based age binning\")\n",
    "def bin_age_generator(data, bin_size=10):\n",
    "    for age in data:\n",
    "        yield f\"{(age // bin_size) * bin_size}-{((age // bin_size) + 1) * bin_size - 1}\"\n",
    "df['age_bin'] = list(bin_age_generator(df['age']))"
   ],
   "id": "1965ce9292453b30",
   "outputs": [
    {
     "name": "stdout",
     "output_type": "stream",
     "text": [
      "[INFO] Applying generator-based age binning\n"
     ]
    }
   ],
   "execution_count": 36
  },
  {
   "metadata": {},
   "cell_type": "markdown",
   "source": "## 9. Aggregation Example",
   "id": "e83fae73d231ccf8"
  },
  {
   "metadata": {
    "ExecuteTime": {
     "end_time": "2025-08-25T16:36:16.196427Z",
     "start_time": "2025-08-25T16:36:16.188083Z"
    }
   },
   "cell_type": "code",
   "source": [
    "print(\"[INFO] Group-based average duration per education level\")\n",
    "df['avg_duration_by_edu'] = df.groupby('education')['duration'].transform('mean')"
   ],
   "id": "9ce10118b26740db",
   "outputs": [
    {
     "name": "stdout",
     "output_type": "stream",
     "text": [
      "[INFO] Group-based average duration per education level\n"
     ]
    }
   ],
   "execution_count": 37
  },
  {
   "metadata": {},
   "cell_type": "markdown",
   "source": "# Visualization",
   "id": "a5871f3de9fcfe00"
  },
  {
   "metadata": {
    "ExecuteTime": {
     "end_time": "2025-08-25T16:36:36.133239Z",
     "start_time": "2025-08-25T16:36:36.023360Z"
    }
   },
   "cell_type": "code",
   "source": [
    "sns.countplot(data=df, x=\"age_bin\", order=sorted(df['age_bin'].unique()))\n",
    "plt.title(\"Age Bins Distribution\")\n",
    "plt.xticks(rotation=45)\n",
    "plt.tight_layout()\n",
    "plt.show()"
   ],
   "id": "30bcf2dcf0f84726",
   "outputs": [
    {
     "data": {
      "text/plain": [
       "<Figure size 640x480 with 1 Axes>"
      ],
      "image/png": "[encoded data removed]"
     },
     "metadata": {},
     "output_type": "display_data"
    }
   ],
   "execution_count": 38
  },
  {
   "metadata": {
    "ExecuteTime": {
     "end_time": "2025-08-25T16:37:07.112375Z",
     "start_time": "2025-08-25T16:37:06.831043Z"
    }
   },
   "cell_type": "code",
   "source": [
    "df.to_csv(\"../data/engineered_bank_data.csv\", index=False)\n",
    "print(\"\\n[INFO] Feature engineered data saved as 'engineered_bank_data.csv'\")"
   ],
   "id": "9daf4c2c5f301e7c",
   "outputs": [
    {
     "name": "stdout",
     "output_type": "stream",
     "text": [
      "\n",
      "[INFO] Feature engineered data saved as 'engineered_bank_data.csv'\n"
     ]
    }
   ],
   "execution_count": 39
  },
  {
   "metadata": {
    "ExecuteTime": {
     "end_time": "2025-08-25T16:37:22.486355Z",
     "start_time": "2025-08-25T16:37:22.476893Z"
    }
   },
   "cell_type": "code",
   "source": "df.head()",
   "id": "ac7a11802eff2b55",
   "outputs": [
    {
     "data": {
      "text/plain": [
       "   age  marital  education default  balance housing loan  day_of_week month  \\\n",
       "0   58  married   tertiary      no     2143     yes   no            0   may   \n",
       "1   44   single  secondary      no       29     yes   no            0   may   \n",
       "2   33  married  secondary      no        2     yes  yes            0   may   \n",
       "3   47  married        NaN      no     1506     yes   no            0   may   \n",
       "4   33   single        NaN      no        1      no   no            0   may   \n",
       "\n",
       "   duration  ...  job_self-employed  job_services  job_student job_technician  \\\n",
       "0       261  ...              False         False        False          False   \n",
       "1       151  ...              False         False        False           True   \n",
       "2        76  ...              False         False        False          False   \n",
       "3        92  ...              False         False        False          False   \n",
       "4       198  ...              False         False        False          False   \n",
       "\n",
       "  job_unemployed  contact_cellular  contact_telephone  marital_freq  age_bin  \\\n",
       "0          False             False              False      0.601933    50-59   \n",
       "1          False             False              False      0.282896    40-49   \n",
       "2          False             False              False      0.601933    30-39   \n",
       "3          False             False              False      0.601933    40-49   \n",
       "4          False             False              False      0.282896    30-39   \n",
       "\n",
       "   avg_duration_by_edu  \n",
       "0           258.518532  \n",
       "1           258.685760  \n",
       "2           258.685760  \n",
       "3                  NaN  \n",
       "4                  NaN  \n",
       "\n",
       "[5 rows x 41 columns]"
      ],
      "text/html": [
       "<div>\n",
       "<style scoped>\n",
       "    .dataframe tbody tr th:only-of-type {\n",
       "        vertical-align: middle;\n",
       "    }\n",
       "\n",
       "    .dataframe tbody tr th {\n",
       "        vertical-align: top;\n",
       "    }\n",
       "\n",
       "    .dataframe thead th {\n",
       "        text-align: right;\n",
       "    }\n",
       "</style>\n",
       "<table border=\"1\" class=\"dataframe\">\n",
       "  <thead>\n",
       "    <tr style=\"text-align: right;\">\n",
       "      <th></th>\n",
       "      <th>age</th>\n",
       "      <th>marital</th>\n",
       "      <th>education</th>\n",
       "      <th>default</th>\n",
       "      <th>balance</th>\n",
       "      <th>housing</th>\n",
       "      <th>loan</th>\n",
       "      <th>day_of_week</th>\n",
       "      <th>month</th>\n",
       "      <th>duration</th>\n",
       "      <th>...</th>\n",
       "      <th>job_self-employed</th>\n",
       "      <th>job_services</th>\n",
       "      <th>job_student</th>\n",
       "      <th>job_technician</th>\n",
       "      <th>job_unemployed</th>\n",
       "      <th>contact_cellular</th>\n",
       "      <th>contact_telephone</th>\n",
       "      <th>marital_freq</th>\n",
       "      <th>age_bin</th>\n",
       "      <th>avg_duration_by_edu</th>\n",
       "    </tr>\n",
       "  </thead>\n",
       "  <tbody>\n",
       "    <tr>\n",
       "      <th>0</th>\n",
       "      <td>58</td>\n",
       "      <td>married</td>\n",
       "      <td>tertiary</td>\n",
       "      <td>no</td>\n",
       "      <td>2143</td>\n",
       "      <td>yes</td>\n",
       "      <td>no</td>\n",
       "      <td>0</td>\n",
       "      <td>may</td>\n",
       "      <td>261</td>\n",
       "      <td>...</td>\n",
       "      <td>False</td>\n",
       "      <td>False</td>\n",
       "      <td>False</td>\n",
       "      <td>False</td>\n",
       "      <td>False</td>\n",
       "      <td>False</td>\n",
       "      <td>False</td>\n",
       "      <td>0.601933</td>\n",
       "      <td>50-59</td>\n",
       "      <td>258.518532</td>\n",
       "    </tr>\n",
       "    <tr>\n",
       "      <th>1</th>\n",
       "      <td>44</td>\n",
       "      <td>single</td>\n",
       "      <td>secondary</td>\n",
       "      <td>no</td>\n",
       "      <td>29</td>\n",
       "      <td>yes</td>\n",
       "      <td>no</td>\n",
       "      <td>0</td>\n",
       "      <td>may</td>\n",
       "      <td>151</td>\n",
       "      <td>...</td>\n",
       "      <td>False</td>\n",
       "      <td>False</td>\n",
       "      <td>False</td>\n",
       "      <td>True</td>\n",
       "      <td>False</td>\n",
       "      <td>False</td>\n",
       "      <td>False</td>\n",
       "      <td>0.282896</td>\n",
       "      <td>40-49</td>\n",
       "      <td>258.685760</td>\n",
       "    </tr>\n",
       "    <tr>\n",
       "      <th>2</th>\n",
       "      <td>33</td>\n",
       "      <td>married</td>\n",
       "      <td>secondary</td>\n",
       "      <td>no</td>\n",
       "      <td>2</td>\n",
       "      <td>yes</td>\n",
       "      <td>yes</td>\n",
       "      <td>0</td>\n",
       "      <td>may</td>\n",
       "      <td>76</td>\n",
       "      <td>...</td>\n",
       "      <td>False</td>\n",
       "      <td>False</td>\n",
       "      <td>False</td>\n",
       "      <td>False</td>\n",
       "      <td>False</td>\n",
       "      <td>False</td>\n",
       "      <td>False</td>\n",
       "      <td>0.601933</td>\n",
       "      <td>30-39</td>\n",
       "      <td>258.685760</td>\n",
       "    </tr>\n",
       "    <tr>\n",
       "      <th>3</th>\n",
       "      <td>47</td>\n",
       "      <td>married</td>\n",
       "      <td>NaN</td>\n",
       "      <td>no</td>\n",
       "      <td>1506</td>\n",
       "      <td>yes</td>\n",
       "      <td>no</td>\n",
       "      <td>0</td>\n",
       "      <td>may</td>\n",
       "      <td>92</td>\n",
       "      <td>...</td>\n",
       "      <td>False</td>\n",
       "      <td>False</td>\n",
       "      <td>False</td>\n",
       "      <td>False</td>\n",
       "      <td>False</td>\n",
       "      <td>False</td>\n",
       "      <td>False</td>\n",
       "      <td>0.601933</td>\n",
       "      <td>40-49</td>\n",
       "      <td>NaN</td>\n",
       "    </tr>\n",
       "    <tr>\n",
       "      <th>4</th>\n",
       "      <td>33</td>\n",
       "      <td>single</td>\n",
       "      <td>NaN</td>\n",
       "      <td>no</td>\n",
       "      <td>1</td>\n",
       "      <td>no</td>\n",
       "      <td>no</td>\n",
       "      <td>0</td>\n",
       "      <td>may</td>\n",
       "      <td>198</td>\n",
       "      <td>...</td>\n",
       "      <td>False</td>\n",
       "      <td>False</td>\n",
       "      <td>False</td>\n",
       "      <td>False</td>\n",
       "      <td>False</td>\n",
       "      <td>False</td>\n",
       "      <td>False</td>\n",
       "      <td>0.282896</td>\n",
       "      <td>30-39</td>\n",
       "      <td>NaN</td>\n",
       "    </tr>\n",
       "  </tbody>\n",
       "</table>\n",
       "<p>5 rows × 41 columns</p>\n",
       "</div>"
      ]
     },
     "execution_count": 40,
     "metadata": {},
     "output_type": "execute_result"
    }
   ],
   "execution_count": 40
  },
  {
   "metadata": {},
   "cell_type": "code",
   "outputs": [],
   "execution_count": null,
   "source": "",
   "id": "fd04af8701c5c890"
  }
 ],
 "metadata": {
  "kernelspec": {
   "display_name": "Python 3",
   "language": "python",
   "name": "python3"
  },
  "language_info": {
   "codemirror_mode": {
    "name": "ipython",
    "version": 2
   },
   "file_extension": ".py",
   "mimetype": "text/x-python",
   "name": "python",
   "nbconvert_exporter": "python",
   "pygments_lexer": "ipython2",
   "version": "2.7.6"
  }
 },
 "nbformat": 4,
 "nbformat_minor": 5
}
